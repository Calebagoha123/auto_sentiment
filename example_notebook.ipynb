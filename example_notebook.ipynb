{
 "cells": [
  {
   "cell_type": "code",
   "execution_count": 20,
   "metadata": {},
   "outputs": [
    {
     "name": "stdout",
     "output_type": "stream",
     "text": [
      "huggingface/tokenizers: The current process just got forked, after parallelism has already been used. Disabling parallelism to avoid deadlocks...\n",
      "To disable this warning, you can either:\n",
      "\t- Avoid using `tokenizers` before the fork if possible\n",
      "\t- Explicitly set the environment variable TOKENIZERS_PARALLELISM=(true | false)\n",
      "Requirement already satisfied: textblob in /Users/calebagoha/anaconda3/lib/python3.11/site-packages (0.18.0.post0)\n",
      "Requirement already satisfied: nltk>=3.8 in /Users/calebagoha/anaconda3/lib/python3.11/site-packages (from textblob) (3.8.1)\n",
      "Requirement already satisfied: click in /Users/calebagoha/anaconda3/lib/python3.11/site-packages (from nltk>=3.8->textblob) (8.0.4)\n",
      "Requirement already satisfied: joblib in /Users/calebagoha/anaconda3/lib/python3.11/site-packages (from nltk>=3.8->textblob) (1.2.0)\n",
      "Requirement already satisfied: regex>=2021.8.3 in /Users/calebagoha/anaconda3/lib/python3.11/site-packages (from nltk>=3.8->textblob) (2022.7.9)\n",
      "Requirement already satisfied: tqdm in /Users/calebagoha/anaconda3/lib/python3.11/site-packages (from nltk>=3.8->textblob) (4.65.0)\n",
      "huggingface/tokenizers: The current process just got forked, after parallelism has already been used. Disabling parallelism to avoid deadlocks...\n",
      "To disable this warning, you can either:\n",
      "\t- Avoid using `tokenizers` before the fork if possible\n",
      "\t- Explicitly set the environment variable TOKENIZERS_PARALLELISM=(true | false)\n",
      "Requirement already satisfied: vaderSentiment in /Users/calebagoha/anaconda3/lib/python3.11/site-packages (3.3.2)\n",
      "Requirement already satisfied: requests in /Users/calebagoha/anaconda3/lib/python3.11/site-packages (from vaderSentiment) (2.31.0)\n",
      "Requirement already satisfied: charset-normalizer<4,>=2 in /Users/calebagoha/anaconda3/lib/python3.11/site-packages (from requests->vaderSentiment) (2.0.4)\n",
      "Requirement already satisfied: idna<4,>=2.5 in /Users/calebagoha/anaconda3/lib/python3.11/site-packages (from requests->vaderSentiment) (3.4)\n",
      "Requirement already satisfied: urllib3<3,>=1.21.1 in /Users/calebagoha/anaconda3/lib/python3.11/site-packages (from requests->vaderSentiment) (1.26.16)\n",
      "Requirement already satisfied: certifi>=2017.4.17 in /Users/calebagoha/anaconda3/lib/python3.11/site-packages (from requests->vaderSentiment) (2024.7.4)\n",
      "huggingface/tokenizers: The current process just got forked, after parallelism has already been used. Disabling parallelism to avoid deadlocks...\n",
      "To disable this warning, you can either:\n",
      "\t- Avoid using `tokenizers` before the fork if possible\n",
      "\t- Explicitly set the environment variable TOKENIZERS_PARALLELISM=(true | false)\n",
      "Requirement already satisfied: transformers in /Users/calebagoha/anaconda3/lib/python3.11/site-packages (4.32.1)\n",
      "Requirement already satisfied: filelock in /Users/calebagoha/anaconda3/lib/python3.11/site-packages (from transformers) (3.9.0)\n",
      "Requirement already satisfied: huggingface-hub<1.0,>=0.15.1 in /Users/calebagoha/anaconda3/lib/python3.11/site-packages (from transformers) (0.15.1)\n",
      "Requirement already satisfied: numpy>=1.17 in /Users/calebagoha/anaconda3/lib/python3.11/site-packages (from transformers) (1.24.4)\n",
      "Requirement already satisfied: packaging>=20.0 in /Users/calebagoha/anaconda3/lib/python3.11/site-packages (from transformers) (23.1)\n",
      "Requirement already satisfied: pyyaml>=5.1 in /Users/calebagoha/anaconda3/lib/python3.11/site-packages (from transformers) (6.0)\n",
      "Requirement already satisfied: regex!=2019.12.17 in /Users/calebagoha/anaconda3/lib/python3.11/site-packages (from transformers) (2022.7.9)\n",
      "Requirement already satisfied: requests in /Users/calebagoha/anaconda3/lib/python3.11/site-packages (from transformers) (2.31.0)\n",
      "Requirement already satisfied: tokenizers!=0.11.3,<0.14,>=0.11.1 in /Users/calebagoha/anaconda3/lib/python3.11/site-packages (from transformers) (0.13.2)\n",
      "Requirement already satisfied: safetensors>=0.3.1 in /Users/calebagoha/anaconda3/lib/python3.11/site-packages (from transformers) (0.3.2)\n",
      "Requirement already satisfied: tqdm>=4.27 in /Users/calebagoha/anaconda3/lib/python3.11/site-packages (from transformers) (4.65.0)\n",
      "Requirement already satisfied: fsspec in /Users/calebagoha/anaconda3/lib/python3.11/site-packages (from huggingface-hub<1.0,>=0.15.1->transformers) (2023.4.0)\n",
      "Requirement already satisfied: typing-extensions>=3.7.4.3 in /Users/calebagoha/anaconda3/lib/python3.11/site-packages (from huggingface-hub<1.0,>=0.15.1->transformers) (4.7.1)\n",
      "Requirement already satisfied: charset-normalizer<4,>=2 in /Users/calebagoha/anaconda3/lib/python3.11/site-packages (from requests->transformers) (2.0.4)\n",
      "Requirement already satisfied: idna<4,>=2.5 in /Users/calebagoha/anaconda3/lib/python3.11/site-packages (from requests->transformers) (3.4)\n",
      "Requirement already satisfied: urllib3<3,>=1.21.1 in /Users/calebagoha/anaconda3/lib/python3.11/site-packages (from requests->transformers) (1.26.16)\n",
      "Requirement already satisfied: certifi>=2017.4.17 in /Users/calebagoha/anaconda3/lib/python3.11/site-packages (from requests->transformers) (2024.7.4)\n"
     ]
    }
   ],
   "source": [
    "#install dependencies\n",
    "!pip install textblob\n",
    "!pip install vaderSentiment\n",
    "!pip install transformers"
   ]
  },
  {
   "cell_type": "code",
   "execution_count": 21,
   "metadata": {},
   "outputs": [],
   "source": [
    "# Introduction to Sentiment Analysis for Developmental Economics and other use cases\n",
    "# This notebook demonstrates basic sentiment analysis techniques using Python\n",
    "\n",
    "# Import required libraries\n",
    "import pandas as pd\n",
    "import matplotlib.pyplot as plt\n",
    "from textblob import TextBlob\n",
    "from nltk.sentiment import SentimentIntensityAnalyzer\n",
    "import nltk\n",
    "from transformers import pipeline"
   ]
  },
  {
   "cell_type": "code",
   "execution_count": 22,
   "metadata": {},
   "outputs": [
    {
     "name": "stderr",
     "output_type": "stream",
     "text": [
      "[nltk_data] Downloading package vader_lexicon to\n",
      "[nltk_data]     /Users/calebagoha/nltk_data...\n",
      "[nltk_data]   Package vader_lexicon is already up-to-date!\n"
     ]
    },
    {
     "data": {
      "text/plain": [
       "True"
      ]
     },
     "execution_count": 22,
     "metadata": {},
     "output_type": "execute_result"
    }
   ],
   "source": [
    "# Download necessary NLTK data\n",
    "nltk.download('vader_lexicon')"
   ]
  },
  {
   "cell_type": "code",
   "execution_count": 23,
   "metadata": {},
   "outputs": [],
   "source": [
    "# Sample political manifesto statements\n",
    "manifesto_statements = [\n",
    "    \"We will invest heavily in renewable energy to combat climate change.\",\n",
    "    \"Our policies will reduce taxes for all citizens.\",\n",
    "    \"The current administration has failed to address rising unemployment.\",\n",
    "    \"We promise to improve healthcare access for rural communities.\",\n",
    "    \"Our party stands for freedom and prosperity for all.\"\n",
    "] \n",
    "\n",
    "# if it is a full manifesto you can either split it into sentenes by looking for each full stop or you can qualitativelu split it into sections and analyzes each section\n",
    "# sentences = [sentence.strip() for sentence in text.split('.') if sentence.strip()]\n",
    "# import 'nameof the text.txt'"
   ]
  },
  {
   "cell_type": "code",
   "execution_count": 24,
   "metadata": {},
   "outputs": [],
   "source": [
    "# Create a DataFrame\n",
    "df = pd.DataFrame(manifesto_statements, columns=['statement'])"
   ]
  },
  {
   "cell_type": "code",
   "execution_count": 25,
   "metadata": {},
   "outputs": [
    {
     "data": {
      "text/html": [
       "<div>\n",
       "<style scoped>\n",
       "    .dataframe tbody tr th:only-of-type {\n",
       "        vertical-align: middle;\n",
       "    }\n",
       "\n",
       "    .dataframe tbody tr th {\n",
       "        vertical-align: top;\n",
       "    }\n",
       "\n",
       "    .dataframe thead th {\n",
       "        text-align: right;\n",
       "    }\n",
       "</style>\n",
       "<table border=\"1\" class=\"dataframe\">\n",
       "  <thead>\n",
       "    <tr style=\"text-align: right;\">\n",
       "      <th></th>\n",
       "      <th>statement</th>\n",
       "    </tr>\n",
       "  </thead>\n",
       "  <tbody>\n",
       "    <tr>\n",
       "      <th>0</th>\n",
       "      <td>We will invest heavily in renewable energy to ...</td>\n",
       "    </tr>\n",
       "    <tr>\n",
       "      <th>1</th>\n",
       "      <td>Our policies will reduce taxes for all citizens.</td>\n",
       "    </tr>\n",
       "    <tr>\n",
       "      <th>2</th>\n",
       "      <td>The current administration has failed to addre...</td>\n",
       "    </tr>\n",
       "    <tr>\n",
       "      <th>3</th>\n",
       "      <td>We promise to improve healthcare access for ru...</td>\n",
       "    </tr>\n",
       "    <tr>\n",
       "      <th>4</th>\n",
       "      <td>Our party stands for freedom and prosperity fo...</td>\n",
       "    </tr>\n",
       "  </tbody>\n",
       "</table>\n",
       "</div>"
      ],
      "text/plain": [
       "                                           statement\n",
       "0  We will invest heavily in renewable energy to ...\n",
       "1   Our policies will reduce taxes for all citizens.\n",
       "2  The current administration has failed to addre...\n",
       "3  We promise to improve healthcare access for ru...\n",
       "4  Our party stands for freedom and prosperity fo..."
      ]
     },
     "execution_count": 25,
     "metadata": {},
     "output_type": "execute_result"
    }
   ],
   "source": [
    "df"
   ]
  },
  {
   "cell_type": "code",
   "execution_count": 26,
   "metadata": {},
   "outputs": [],
   "source": [
    "# Function to get polarity scores using TextBlob\n",
    "def get_textblob_polarity(text):\n",
    "    blob = TextBlob(text)\n",
    "    return blob.sentiment.polarity #can also do subjectivity (0 to 1)\n",
    "\n",
    "    # you can also do per sentence:\n",
    "    #sentence_sentiments = [sentence.sentiment.polarity for sentence in blob.sentences]\n",
    "\n",
    "\n",
    "# Function to get sentiment scores using VADER\n",
    "def get_vader_sentiment(text):\n",
    "    sid = SentimentIntensityAnalyzer()\n",
    "    return sid.polarity_scores(text)['compound']"
   ]
  },
  {
   "cell_type": "markdown",
   "metadata": {},
   "source": [
    "Textblob is better suited for longer text and political manifestos whereas VADER is more suited for shorter text such as soical media comments. They both do not require much pre-processing as context matters. The scores range from -1 to 1 with schores around 0 generally considered neutral."
   ]
  },
  {
   "cell_type": "code",
   "execution_count": 27,
   "metadata": {},
   "outputs": [
    {
     "name": "stdout",
     "output_type": "stream",
     "text": [
      "Basic Sentiment Analysis Results:\n"
     ]
    },
    {
     "data": {
      "text/html": [
       "<div>\n",
       "<style scoped>\n",
       "    .dataframe tbody tr th:only-of-type {\n",
       "        vertical-align: middle;\n",
       "    }\n",
       "\n",
       "    .dataframe tbody tr th {\n",
       "        vertical-align: top;\n",
       "    }\n",
       "\n",
       "    .dataframe thead th {\n",
       "        text-align: right;\n",
       "    }\n",
       "</style>\n",
       "<table border=\"1\" class=\"dataframe\">\n",
       "  <thead>\n",
       "    <tr style=\"text-align: right;\">\n",
       "      <th></th>\n",
       "      <th>statement</th>\n",
       "      <th>textblob_polarity</th>\n",
       "      <th>vader_sentiment</th>\n",
       "    </tr>\n",
       "  </thead>\n",
       "  <tbody>\n",
       "    <tr>\n",
       "      <th>0</th>\n",
       "      <td>We will invest heavily in renewable energy to ...</td>\n",
       "      <td>-0.20</td>\n",
       "      <td>-0.0772</td>\n",
       "    </tr>\n",
       "    <tr>\n",
       "      <th>1</th>\n",
       "      <td>Our policies will reduce taxes for all citizens.</td>\n",
       "      <td>0.00</td>\n",
       "      <td>0.0000</td>\n",
       "    </tr>\n",
       "    <tr>\n",
       "      <th>2</th>\n",
       "      <td>The current administration has failed to addre...</td>\n",
       "      <td>-0.25</td>\n",
       "      <td>-0.7351</td>\n",
       "    </tr>\n",
       "    <tr>\n",
       "      <th>3</th>\n",
       "      <td>We promise to improve healthcare access for ru...</td>\n",
       "      <td>0.00</td>\n",
       "      <td>0.6369</td>\n",
       "    </tr>\n",
       "    <tr>\n",
       "      <th>4</th>\n",
       "      <td>Our party stands for freedom and prosperity fo...</td>\n",
       "      <td>0.00</td>\n",
       "      <td>0.7845</td>\n",
       "    </tr>\n",
       "  </tbody>\n",
       "</table>\n",
       "</div>"
      ],
      "text/plain": [
       "                                           statement  textblob_polarity  \\\n",
       "0  We will invest heavily in renewable energy to ...              -0.20   \n",
       "1   Our policies will reduce taxes for all citizens.               0.00   \n",
       "2  The current administration has failed to addre...              -0.25   \n",
       "3  We promise to improve healthcare access for ru...               0.00   \n",
       "4  Our party stands for freedom and prosperity fo...               0.00   \n",
       "\n",
       "   vader_sentiment  \n",
       "0          -0.0772  \n",
       "1           0.0000  \n",
       "2          -0.7351  \n",
       "3           0.6369  \n",
       "4           0.7845  "
      ]
     },
     "metadata": {},
     "output_type": "display_data"
    },
    {
     "name": "stdout",
     "output_type": "stream",
     "text": [
      "None\n"
     ]
    }
   ],
   "source": [
    "# Apply sentiment analysis\n",
    "df['textblob_polarity'] = df['statement'].apply(get_textblob_polarity)\n",
    "df['vader_sentiment'] = df['statement'].apply(get_vader_sentiment)\n",
    "\n",
    "# Print results\n",
    "print(\"Basic Sentiment Analysis Results:\")\n",
    "print(display(df))"
   ]
  },
  {
   "cell_type": "code",
   "execution_count": 28,
   "metadata": {},
   "outputs": [
    {
     "data": {
      "image/png": "[encoded data removed]",
      "text/plain": [
       "<Figure size 1000x600 with 1 Axes>"
      ]
     },
     "metadata": {},
     "output_type": "display_data"
    }
   ],
   "source": [
    "# Visualize results\n",
    "plt.figure(figsize=(10, 6))\n",
    "plt.bar(df.index, df['textblob_polarity'], alpha=0.5, label='TextBlob')\n",
    "plt.bar(df.index, df['vader_sentiment'], alpha=0.5, label='VADER')\n",
    "plt.axhline(y=0, color='r', linestyle='-', linewidth=0.5)\n",
    "plt.xlabel('Statement Index')\n",
    "plt.ylabel('Sentiment Score')\n",
    "plt.title('Sentiment Analysis of Political Manifesto Statements')\n",
    "plt.legend()\n",
    "plt.tight_layout()\n",
    "plt.show()\n"
   ]
  },
  {
   "cell_type": "markdown",
   "metadata": {},
   "source": [
    "VADER allows for more nuanced sentiment analysis by giving a positive, negative, neutral and compound snetiment score for each text it analyzes."
   ]
  },
  {
   "cell_type": "code",
   "execution_count": 29,
   "metadata": {},
   "outputs": [
    {
     "name": "stdout",
     "output_type": "stream",
     "text": [
      "\n",
      "Detailed VADER Sentiment Scores:\n",
      "\n",
      "Statement 1:\n",
      "'We will invest heavily in renewable energy to combat climate change.'\n",
      "Positive: 0.16\n",
      "Neutral: 0.67\n",
      "Negative: 0.18\n",
      "Compound: -0.08\n",
      "\n",
      "Statement 2:\n",
      "'Our policies will reduce taxes for all citizens.'\n",
      "Positive: 0.00\n",
      "Neutral: 1.00\n",
      "Negative: 0.00\n",
      "Compound: 0.00\n",
      "\n",
      "Statement 3:\n",
      "'The current administration has failed to address rising unemployment.'\n",
      "Positive: 0.00\n",
      "Neutral: 0.53\n",
      "Negative: 0.47\n",
      "Compound: -0.74\n",
      "\n",
      "Statement 4:\n",
      "'We promise to improve healthcare access for rural communities.'\n",
      "Positive: 0.43\n",
      "Neutral: 0.57\n",
      "Negative: 0.00\n",
      "Compound: 0.64\n",
      "\n",
      "Statement 5:\n",
      "'Our party stands for freedom and prosperity for all.'\n",
      "Positive: 0.50\n",
      "Neutral: 0.50\n",
      "Negative: 0.00\n",
      "Compound: 0.78\n"
     ]
    }
   ],
   "source": [
    "print(\"\\nDetailed VADER Sentiment Scores:\")\n",
    "sid = SentimentIntensityAnalyzer()\n",
    "for i, statement in enumerate(manifesto_statements):\n",
    "    scores = sid.polarity_scores(statement)\n",
    "    print(f\"\\nStatement {i + 1}:\")\n",
    "    print(f\"'{statement}'\")\n",
    "    print(f\"Positive: {scores['pos']:.2f}\")\n",
    "    print(f\"Neutral: {scores['neu']:.2f}\")\n",
    "    print(f\"Negative: {scores['neg']:.2f}\")\n",
    "    print(f\"Compound: {scores['compound']:.2f}\")"
   ]
  },
  {
   "cell_type": "code",
   "execution_count": 30,
   "metadata": {},
   "outputs": [
    {
     "name": "stdout",
     "output_type": "stream",
     "text": [
      "\n",
      "Emotion Detection using Hugging Face Transformers:\n"
     ]
    },
    {
     "name": "stderr",
     "output_type": "stream",
     "text": [
      "/Users/calebagoha/anaconda3/lib/python3.11/site-packages/transformers/modeling_utils.py:479: FutureWarning: You are using `torch.load` with `weights_only=False` (the current default value), which uses the default pickle module implicitly. It is possible to construct malicious pickle data which will execute arbitrary code during unpickling (See https://github.com/pytorch/pytorch/blob/main/SECURITY.md#untrusted-models for more details). In a future release, the default value for `weights_only` will be flipped to `True`. This limits the functions that could be executed during unpickling. Arbitrary objects will no longer be allowed to be loaded via this mode unless they are explicitly allowlisted by the user via `torch.serialization.add_safe_globals`. We recommend you start setting `weights_only=True` for any use case where you don't have full control of the loaded file. Please open an issue on GitHub for any issues related to this experimental feature.\n",
      "  return torch.load(checkpoint_file, map_location=map_location)\n"
     ]
    }
   ],
   "source": [
    "# Emotion Detection using Hugging Face Transformers\n",
    "print(\"\\nEmotion Detection using Hugging Face Transformers:\")\n",
    "\n",
    "# Initialize the emotion detection pipeline\n",
    "emotion_classifier = pipeline(\"text-classification\", model=\"j-hartmann/emotion-english-distilroberta-base\", top_k=None)"
   ]
  },
  {
   "cell_type": "code",
   "execution_count": 31,
   "metadata": {},
   "outputs": [
    {
     "name": "stdout",
     "output_type": "stream",
     "text": [
      "\n",
      "Statement 1:\n",
      "'We will invest heavily in renewable energy to combat climate change.'\n",
      "neutral: 0.8500\n",
      "sadness: 0.0386\n",
      "anger: 0.0353\n",
      "disgust: 0.0274\n",
      "fear: 0.0273\n",
      "joy: 0.0159\n",
      "surprise: 0.0055\n",
      "\n",
      "Statement 2:\n",
      "'Our policies will reduce taxes for all citizens.'\n",
      "neutral: 0.8789\n",
      "joy: 0.0568\n",
      "anger: 0.0344\n",
      "disgust: 0.0137\n",
      "sadness: 0.0086\n",
      "surprise: 0.0057\n",
      "fear: 0.0019\n",
      "\n",
      "Statement 3:\n",
      "'The current administration has failed to address rising unemployment.'\n",
      "disgust: 0.3380\n",
      "sadness: 0.3086\n",
      "neutral: 0.2502\n",
      "anger: 0.0765\n",
      "fear: 0.0199\n",
      "surprise: 0.0046\n",
      "joy: 0.0021\n",
      "\n",
      "Statement 4:\n",
      "'We promise to improve healthcare access for rural communities.'\n",
      "neutral: 0.7315\n",
      "joy: 0.1843\n",
      "disgust: 0.0325\n",
      "anger: 0.0223\n",
      "sadness: 0.0165\n",
      "fear: 0.0073\n",
      "surprise: 0.0056\n",
      "\n",
      "Statement 5:\n",
      "'Our party stands for freedom and prosperity for all.'\n",
      "neutral: 0.5500\n",
      "joy: 0.2514\n",
      "anger: 0.1165\n",
      "disgust: 0.0537\n",
      "sadness: 0.0158\n",
      "fear: 0.0082\n",
      "surprise: 0.0044\n"
     ]
    }
   ],
   "source": [
    "# Perform emotion detection\n",
    "for i, statement in enumerate(manifesto_statements):\n",
    "    emotions = emotion_classifier(statement)[0]\n",
    "    print(f\"\\nStatement {i + 1}:\")\n",
    "    print(f\"'{statement}'\")\n",
    "    for emotion in emotions:\n",
    "        print(f\"{emotion['label']}: {emotion['score']:.4f}\")"
   ]
  },
  {
   "cell_type": "code",
   "execution_count": 32,
   "metadata": {},
   "outputs": [
    {
     "data": {
      "image/png": "[encoded data removed]",
      "text/plain": [
       "<Figure size 1000x600 with 1 Axes>"
      ]
     },
     "metadata": {},
     "output_type": "display_data"
    }
   ],
   "source": [
    "# Visualize Hugging Face emotion results for the first statement\n",
    "plt.figure(figsize=(10, 6))\n",
    "emotions = emotion_classifier(manifesto_statements[0])[0]\n",
    "labels = [e['label'] for e in emotions]\n",
    "scores = [e['score'] for e in emotions]\n",
    "plt.bar(labels, scores)\n",
    "plt.title(f\"Emotion Analysis of Statement 1:\\n{manifesto_statements[0]}\")\n",
    "plt.xlabel('Emotion')\n",
    "plt.ylabel('Score')\n",
    "plt.ylim(0, 1)\n",
    "plt.show()"
   ]
  },
  {
   "cell_type": "code",
   "execution_count": null,
   "metadata": {},
   "outputs": [],
   "source": [
    "# You can also do it with video using MEXCA or any other similar package"
   ]
  }
 ],
 "metadata": {
  "kernelspec": {
   "display_name": "Python 3",
   "language": "python",
   "name": "python3"
  },
  "language_info": {
   "codemirror_mode": {
    "name": "ipython",
    "version": 3
   },
   "file_extension": ".py",
   "mimetype": "text/x-python",
   "name": "python",
   "nbconvert_exporter": "python",
   "pygments_lexer": "ipython3",
   "version": "3.11.5"
  }
 },
 "nbformat": 4,
 "nbformat_minor": 2
}
